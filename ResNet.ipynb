{
  "nbformat": 4,
  "nbformat_minor": 0,
  "metadata": {
    "colab": {
      "name": "ResNet.ipynb",
      "private_outputs": true,
      "provenance": [],
      "authorship_tag": "ABX9TyPqNUzJVK6c//cYPuZ80QO8",
      "include_colab_link": true
    },
    "kernelspec": {
      "name": "python3",
      "display_name": "Python 3"
    },
    "language_info": {
      "name": "python"
    }
  },
  "cells": [
    {
      "cell_type": "markdown",
      "metadata": {
        "id": "view-in-github",
        "colab_type": "text"
      },
      "source": [
        "<a href=\"https://colab.research.google.com/github/du6293/thesis_studying/blob/main/ResNet.ipynb\" target=\"_parent\"><img src=\"https://colab.research.google.com/assets/colab-badge.svg\" alt=\"Open In Colab\"/></a>"
      ]
    },
    {
      "cell_type": "markdown",
      "source": [
        "CIFAR-10사용해 ResNet18 구현"
      ],
      "metadata": {
        "id": "FXWh7DZR8Jge"
      }
    },
    {
      "cell_type": "code",
      "execution_count": null,
      "metadata": {
        "id": "8zGkCSoSkd_-"
      },
      "outputs": [],
      "source": [
        "import torchvision\n",
        "import torch.nn as nn\n",
        "import torch.nn.functional as F\n",
        "from torchvision import datasets\n",
        "import torchvision.transforms as transforms\n",
        "import matplotlib.pyplot as plt\n",
        "import torch"
      ]
    },
    {
      "cell_type": "code",
      "source": [
        "device = torch.device('cuda' if torch.cuda.is_available() else 'cpu')\n",
        "print(device)"
      ],
      "metadata": {
        "id": "oq45JoHNH1kf"
      },
      "execution_count": null,
      "outputs": []
    },
    {
      "cell_type": "code",
      "source": [
        "class BasicBlock(nn.Module):  # Basicblock을 만들어주는 역할\n",
        "    def __init__(self, in_channel, out_channel, downsample):\n",
        "        super().__init__()\n",
        "        \n",
        "        self.downsample = downsample  # True or False\n",
        "        if self.downsample:\n",
        "            # 1. 1/2 처리를 해주어야 함\n",
        "            stride = 2\n",
        "            # 2. 점선 과정에서 사용될 네트워크를 고려해야 함\n",
        "            self.down_cnn = nn.Conv2d(in_channels = in_channel, out_channels = out_channel, kernel_size = 1, stride = stride)\n",
        "            self.down_bn = nn.BatchNorm2d(num_features = out_channel)\n",
        "\n",
        "        else:\n",
        "            # 1. 1/2 처리 필요 없음.\n",
        "            stride = 1\n",
        "            # 2. 실선 과정이므로 네트워크 없이 그냥 더하기 하면 됨(layer1 처럼)\n",
        "\n",
        "        self.conv1 = nn.Conv2d(in_channels = in_channel, out_channels = out_channel, kernel_size = 3, stride = stride, padding = 1)\n",
        "        self.bn1 = nn.BatchNorm2d(num_features = out_channel)\n",
        "        self.relu = nn.ReLU()\n",
        "\n",
        "        self.conv2 = nn.Conv2d(in_channels = out_channel, out_channels = out_channel, kernel_size = 3, stride = 1, padding = 1)\n",
        "        self.bn2 = nn.BatchNorm2d(num_features = out_channel)\n",
        "        \n",
        "\n",
        "\n",
        "    def forward(self,x):\n",
        "      if self.downsample :\n",
        "        skip = self.down_cnn(x)\n",
        "        skip = self.down_bn(skip)\n",
        "        \n",
        "      else:\n",
        "        skip = x\n",
        "\n",
        "      out = self.conv1(x)\n",
        "      out = self.bn1(out)\n",
        "      out = self.relu(out)\n",
        "\n",
        "      out = self.conv2(out)\n",
        "      out = self.bn2(out)\n",
        "      out = self.relu(out)\n",
        "\n",
        "      out = out + skip\n",
        "\n",
        "      return out"
      ],
      "metadata": {
        "id": "KFc9_tv-YFIy"
      },
      "execution_count": null,
      "outputs": []
    },
    {
      "cell_type": "code",
      "source": [
        "class ResNet18(nn.Module):\n",
        "    def __init__(self, num_classes):   # 초기화 과정\n",
        "        super().__init__()\n",
        "        \n",
        "        # 도입부\n",
        "        self.conv1 = nn.Conv2d(in_channels = 3, out_channels=64, kernel_size = 7, stride = 2, padding = 3)\n",
        "        self.bn1 = nn.BatchNorm2d(num_features = 64)\n",
        "        self.relu = nn.ReLU()\n",
        "        self.maxpool = nn.MaxPool2d(kernel_size = 3, stride = 2, padding = 1)\n",
        "\n",
        "        # 중간층(layer1 ~ layer4)\n",
        "        self.layer1 = self.make_layer(in_channel=64, out_channel=64, num_blocks = 2, downsample=False)  # downsample : skip connection과정에서 다음 layer로 넘어갈 때 size 변경\n",
        "        self.layer2 = self.make_layer(in_channel=64, out_channel=128, num_blocks = 2, downsample=True)\n",
        "        self.layer3 = self.make_layer(in_channel=128, out_channel=256, num_blocks = 2, downsample=True)\n",
        "        self.layer4 = self.make_layer(in_channel=256, out_channel=512, num_blocks = 2, downsample=True)     \n",
        "\n",
        "        # 아웃풋\n",
        "        self.avg_pool = nn.AdaptiveAvgPool2d((1,1))   # filter size만 주고 알아서 width와 height를 1*1로 만들도록 함\n",
        "        self.fc = nn.Linear(in_features = 512, out_features = num_classes)\n",
        "\n",
        "    def make_layer(self, num_blocks, in_channel, out_channel, downsample ):\n",
        "        layer = []  # basic block이 들어감\n",
        "        layer.append(BasicBlock(in_channel = in_channel, out_channel = out_channel, downsample=downsample))\n",
        "        for _ in range(1,num_blocks):\n",
        "          layer.append(BasicBlock(in_channel = out_channel, out_channel = out_channel, downsample = False))\n",
        "        return nn.Sequential(*layer)  # python 에서 *은 unpacking을 의미\n",
        "\n",
        "    def forward(self, x):   # 이미지를 다루는 과정\n",
        "        batch_size = x.shape[0]\n",
        "        # 도입부\n",
        "        out = self.conv1(x)\n",
        "        out = self.bn1(out)\n",
        "        out = self.relu(out)\n",
        "        out = self.maxpool(out)\n",
        "\n",
        "        # 중간층(layer1 ~ layer4)\n",
        "        out = self.layer1(out)  # bacis block = 3*3 Conv 2개와 skip connection으로 구성\n",
        "        out = self.layer2(out)\n",
        "        out = self.layer3(out)\n",
        "        out = self.layer4(out)\n",
        "\n",
        "\n",
        "        # 아웃풋\n",
        "        out = self.avg_pool(out)\n",
        "        out = out.view(batch_size, -1)\n",
        "        out = self.fc(out)\n",
        "\n",
        "\n",
        "        return out"
      ],
      "metadata": {
        "id": "8ePeO-hzJTwp"
      },
      "execution_count": null,
      "outputs": []
    },
    {
      "cell_type": "code",
      "source": [
        "# hyper-parameter\n",
        "num_classes = 10\n",
        "num_epochs = 10\n",
        "batch_size = 100\n",
        "learning_rate = 0.001"
      ],
      "metadata": {
        "id": "2hBxy_12H-gb"
      },
      "execution_count": null,
      "outputs": []
    },
    {
      "cell_type": "code",
      "source": [
        "# Data PreProcessing\n",
        "transforms_train = transforms.Compose([\n",
        "                                       transforms.RandomCrop(32, padding = 4),\n",
        "                                       transforms.RandomHorizontalFlip(),\n",
        "                                       transforms.ToTensor(),\n",
        "                                       transforms.Normalize((0.4914,0.4822,0.4465),(0.2003,0.1944, 0.2010))\n",
        "\n",
        "])\n",
        "\n",
        "transforms_test = transforms.Compose([\n",
        "                                      transforms.ToTensor(),\n",
        "                                      transforms.Normalize((0.4914,0.4822,0.4465),(0.2003,0.1944, 0.2010))\n",
        "])"
      ],
      "metadata": {
        "id": "TG0E8HHxIcVw"
      },
      "execution_count": null,
      "outputs": []
    },
    {
      "cell_type": "code",
      "source": [
        "# pytorch에서 제공하는 CIFAR10 dataset\n",
        "train_dev_dataset = torchvision.datasets.CIFAR10(root='./data',train=True,\n",
        "                                        transform = transforms_train, download = True)\n",
        "test_dataset = torchvision.datasets.CIFAR10(root = './data', train=False,\n",
        "                                            transform = transforms_test, download = True)\n",
        "train_dataset, dev_dataset = torch.utils.data.random_split(train_dev_dataset, [45000, 5000])"
      ],
      "metadata": {
        "id": "gU9JaFVgsFZI"
      },
      "execution_count": null,
      "outputs": []
    },
    {
      "cell_type": "code",
      "source": [
        "# 배치 단위로 데이터를 처리해주는 Data loader\n",
        "train_loader = torch.utils.data.DataLoader(dataset=train_dataset,\n",
        "                                           batch_size = batch_size,\n",
        "                                           shuffle = True)\n",
        "dev_loader = torch.utils.data.DataLoader(dataset=dev_dataset,\n",
        "                                         batch_size = batch_size,\n",
        "                                         shuffle = False)\n",
        "test_loader = torch.utils.data.DataLoader(dataset = test_dataset, \n",
        "                                          batch_size = batch_size,\n",
        "                                          shuffle = False)\n"
      ],
      "metadata": {
        "id": "iLCKxAe9tBFk"
      },
      "execution_count": null,
      "outputs": []
    },
    {
      "cell_type": "code",
      "source": [
        "# model을 지정한 device로 올려줌\n",
        "model = ResNet18(num_classes).to(device)"
      ],
      "metadata": {
        "id": "u_672cQkto4S"
      },
      "execution_count": null,
      "outputs": []
    },
    {
      "cell_type": "code",
      "source": [
        "criterion = nn.CrossEntropyLoss()\n",
        "optimizer = torch.optim.Adam(model.parameters(), lr=learning_rate)\n",
        "# model.parameters - > 가중치 w들을 의미"
      ],
      "metadata": {
        "id": "qWpVbMDaudEe"
      },
      "execution_count": null,
      "outputs": []
    },
    {
      "cell_type": "code",
      "source": [
        "def evaluation(data_loader):\n",
        "  correct = 0\n",
        "  total = 0\n",
        "  for images, labels in data_loader:\n",
        "      images = images.to(device)\n",
        "      labels = labels.to(device)\n",
        "      outputs = model(images)\n",
        "      _,predicted = torch.max(outputs.data, 1)\n",
        "      total += labels.size(0)\n",
        "      correct += (predicted == labels).sum().item()\n",
        "\n",
        "  return correct / total\n"
      ],
      "metadata": {
        "id": "fdd0oP_Su6Xo"
      },
      "execution_count": null,
      "outputs": []
    },
    {
      "cell_type": "code",
      "source": [
        "loss_arr = []\n",
        "max = 0.0\n",
        "total_step = len(train_loader)"
      ],
      "metadata": {
        "id": "N_t2RGVqvY0d"
      },
      "execution_count": null,
      "outputs": []
    },
    {
      "cell_type": "code",
      "source": [
        "for epoch in range(num_epochs):\n",
        "  for i, (images, labels) in enumerate(train_loader):\n",
        "    model.train()\n",
        "    # Move tensors to the configurated device\n",
        "    images = images.to(device)\n",
        "    labels = labels.to(device)\n",
        "    # Forward pass\n",
        "    outputs = model(images)\n",
        "    loss = criterion(outputs, labels)\n",
        "    # Backward and optimize\n",
        "    optimizer.zero_grad()  # iteration마다 gradient를 0으로 초기화\n",
        "    loss.backward() # 가중치 w에 대해 loss를 미분\n",
        "    optimizer.step() # 가중치들을 업데이트\n",
        "\n",
        "    \n",
        "    if (i+1) % 150 == 0:\n",
        "      loss_arr.append(loss)\n",
        "      print('Epoch [{}/{}], step [{}/{}], Loss: {:.4f}'\n",
        "      .format(epoch+1, num_epochs, i+1, total_step, loss.item()))\n",
        "\n",
        "      with torch.no_grad():\n",
        "        model.eval()\n",
        "        acc = evaluation(dev_loader)\n",
        "        if max < acc:\n",
        "          max = acc\n",
        "          print('max dev accuracy:', max)\n",
        "          torch.save(model.state_dict(), 'model.ckpt')\n",
        "          "
      ],
      "metadata": {
        "id": "c9Bw7JFzviWq"
      },
      "execution_count": null,
      "outputs": []
    },
    {
      "cell_type": "code",
      "source": [
        "# 2.torch vision의 내장 구현 resnet 활용하기\n",
        "pytorch_model = torchvision.models.resnet18(pretrained = True)\n",
        "num_ftrs = pytorch_model.fc.in_features\n",
        "pytorch_model.fc = nn.Linear(num_ftrs, num_classes)\n",
        "model.parameters  # 가중치 w들을 의미"
      ],
      "metadata": {
        "id": "N5lLn_RHtzox"
      },
      "execution_count": null,
      "outputs": []
    },
    {
      "cell_type": "code",
      "source": [
        "with torch.no_grad():\n",
        "  last_acc = evaluation(test_loader)\n",
        "  print('Last accuracy of the network on the 1000 test images: {} %'.format(last_acc * 100))\n",
        "\n",
        "  model.load_state_dict(torch.load('model.ckpt'))\n",
        "  best_acc = evaluation(test_loader)\n",
        "  print('Best Accuracy of the network on the 10000 test images : {} %'.format(best_acc*100))"
      ],
      "metadata": {
        "id": "NmNBiuDjw1wr"
      },
      "execution_count": null,
      "outputs": []
    },
    {
      "cell_type": "code",
      "source": [
        "plt.plot(loss_arr)\n",
        "plt.show()"
      ],
      "metadata": {
        "id": "_zqSUG-GDWQS"
      },
      "execution_count": null,
      "outputs": []
    }
  ]
}